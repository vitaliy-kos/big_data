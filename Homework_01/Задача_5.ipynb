{
  "cells": [
    {
      "cell_type": "markdown",
      "metadata": {
        "id": "n0NOraFOjK73"
      },
      "source": [
        " # Подготовка окружения"
      ]
    },
    {
      "cell_type": "code",
      "execution_count": 1,
      "metadata": {
        "id": "0PhWn1yjFd1L"
      },
      "outputs": [],
      "source": [
        "import opendatasets as od\n",
        "import pandas as pd\n",
        "import time\n",
        "from pathlib import Path"
      ]
    },
    {
      "cell_type": "markdown",
      "metadata": {
        "id": "RynShBkvjUfi"
      },
      "source": [
        "## Скачиваем датасет"
      ]
    },
    {
      "cell_type": "code",
      "execution_count": 2,
      "metadata": {
        "id": "qeWSaWkZRFxY"
      },
      "outputs": [],
      "source": [
        "dataset_path = Path('genius-song-lyrics-with-language-information', 'song_lyrics.csv')\n",
        "if not dataset_path.is_file():\n",
        "    od.download('https://www.kaggle.com/datasets/carlosgdcj/genius-song-lyrics-with-language-information')"
      ]
    },
    {
      "cell_type": "markdown",
      "metadata": {
        "id": "jqh_NMwMjfhO"
      },
      "source": [
        "# Задача 5"
      ]
    },
    {
      "cell_type": "markdown",
      "metadata": {
        "id": "dT3zSSONBfml"
      },
      "source": [
        "## Вариант \"в лоб\""
      ]
    },
    {
      "cell_type": "markdown",
      "metadata": {
        "id": "HId0FgxBDuZr"
      },
      "source": [
        "Здесь показана реализация с помощью пандаса"
      ]
    },
    {
      "cell_type": "code",
      "execution_count": null,
      "metadata": {
        "id": "9CniNSaVMiZW"
      },
      "outputs": [],
      "source": [
        "# Неправильно, упадёт из-за нехватки памяти\n",
        "# df = pd.read_csv(dataset_path)"
      ]
    },
    {
      "cell_type": "markdown",
      "metadata": {
        "id": "OdEA8FqPBjvn"
      },
      "source": [
        "## Правильное решение"
      ]
    },
    {
      "cell_type": "markdown",
      "metadata": {
        "id": "ChzV94b6Bwf2"
      },
      "source": [
        "Обработка файла по частям. Как будет видно мультипроцессорная обработка не всегда самая быстрая, так как у нас появляются дополнительные накладные расходы на мультипоточную реализацию. Но такая реализация позволяет считать, что нельзя посчитать на одном компьютере, хоть и с накладными расходами.\n",
        "\n",
        "А функции map и reduce позволяют делать код проще и масштабируемей."
      ]
    },
    {
      "cell_type": "markdown",
      "metadata": {
        "id": "qReeiduiDab9"
      },
      "source": [
        "###  Считывем с помощью пандас"
      ]
    },
    {
      "cell_type": "code",
      "execution_count": 3,
      "metadata": {
        "colab": {
          "base_uri": "https://localhost:8080/"
        },
        "id": "hESySj40Sii7",
        "outputId": "cbe622c9-80ef-4144-b5d1-5d3c29416402"
      },
      "outputs": [
        {
          "name": "stdout",
          "output_type": "stream",
          "text": [
            "2650\n",
            "Время выполнения: 85.08 секунд.\n"
          ]
        }
      ],
      "source": [
        "# Вариант с циклом\n",
        "# Задача 4\n",
        "chunksize = 100_000\n",
        "df_chunks = pd.read_csv(\n",
        "    dataset_path,\n",
        "    chunksize=chunksize)\n",
        "\n",
        "start_time = time.time()\n",
        "sizes = []\n",
        "for chunk in df_chunks:\n",
        "    sizes.append(chunk[(chunk.year == 2022) & (chunk.views > 5000)].shape[0])\n",
        "print(sum(sizes))\n",
        "print(f'Время выполнения: {round(time.time() - start_time, 2)} секунд.')"
      ]
    },
    {
      "cell_type": "code",
      "execution_count": 4,
      "metadata": {
        "colab": {
          "base_uri": "https://localhost:8080/"
        },
        "id": "xiqgmSYDVZHI",
        "outputId": "752ae568-408b-42a3-b785-c65ac9506303"
      },
      "outputs": [
        {
          "name": "stdout",
          "output_type": "stream",
          "text": [
            "2650\n",
            "Время выполнения: 87.66 секунд.\n"
          ]
        }
      ],
      "source": [
        "# Вариант с map и reduce\n",
        "# Задача 4\n",
        "from functools import reduce\n",
        "\n",
        "\n",
        "def count_songs(chunk):\n",
        "    return chunk[(chunk.year == 2022) & (chunk.views > 5000)].shape[0]\n",
        "\n",
        "\n",
        "chunksize = 100_000\n",
        "df_chunks = pd.read_csv(\n",
        "    dataset_path,\n",
        "    chunksize=chunksize)\n",
        "\n",
        "start_time = time.time()\n",
        "print(reduce(lambda x, y: x + y, map(count_songs, df_chunks,)))\n",
        "print(f'Время выполнения: {round(time.time() - start_time, 2)} секунд.')"
      ]
    },
    {
      "cell_type": "code",
      "execution_count": null,
      "metadata": {
        "colab": {
          "base_uri": "https://localhost:8080/"
        },
        "id": "_yjRZD7OZi6u",
        "outputId": "bd9d2307-103e-440f-cbd1-ef17c9fc94b8"
      },
      "outputs": [],
      "source": [
        "# Через multiprocessing\n",
        "import multiprocessing as mp\n",
        "from functools import reduce\n",
        "\n",
        "\n",
        "result_list = []\n",
        "def log_result(result):\n",
        "    result_list.append(result)\n",
        "\n",
        "def count_songs(chunk):\n",
        "    return chunk[(chunk.year == 2022) & (chunk.views > 5000)].shape[0]\n",
        "\n",
        "def apply_async_with_callback(chunksize):\n",
        "    pool = mp.Pool(2)\n",
        "    for i in pd.read_csv(dataset_path, chunksize=chunksize, iterator=True):\n",
        "        pool.apply_async(count_songs, args = (i, ), callback = log_result)\n",
        "    pool.close()\n",
        "    pool.join()\n",
        "    return result_list\n",
        "\n",
        "if __name__ == '__main__':\n",
        "    chunksize = 100_000\n",
        "    start_time = time.time()\n",
        "    print(reduce(lambda x, y: x + y, apply_async_with_callback(chunksize)))\n",
        "    print(f'Время выполнения: {round(time.time() - start_time, 2)} секунд.')"
      ]
    },
    {
      "cell_type": "code",
      "execution_count": 6,
      "metadata": {
        "colab": {
          "base_uri": "https://localhost:8080/"
        },
        "id": "AMWdnDgtBbqQ",
        "outputId": "db0c4213-3a2b-4be2-d5db-2663e1833ce3"
      },
      "outputs": [
        {
          "name": "stdout",
          "output_type": "stream",
          "text": [
            "2650\n",
            "Время выполнения: 104.02 секунд.\n"
          ]
        }
      ],
      "source": [
        "# Через joblib\n",
        "from joblib import Parallel, delayed\n",
        "from functools import reduce\n",
        "\n",
        "\n",
        "def count_songs(chunk):\n",
        "    return chunk[(chunk.year == 2022) & (chunk.views > 5000)].shape[0]\n",
        "\n",
        "\n",
        "chunksize = 100_000\n",
        "df_chunks = pd.read_csv(\n",
        "    dataset_path,\n",
        "    chunksize=chunksize)\n",
        "\n",
        "start_time = time.time()\n",
        "print(reduce(lambda x, y: x + y, Parallel(n_jobs=2)(delayed(count_songs)(chunk) for chunk in df_chunks)))\n",
        "print(f'Время выполнения: {round(time.time() - start_time, 2)} секунд.')"
      ]
    },
    {
      "cell_type": "markdown",
      "metadata": {
        "id": "vBsiCNYm40tq"
      },
      "source": [
        "### С помощью библиотеки csv"
      ]
    },
    {
      "cell_type": "code",
      "execution_count": null,
      "metadata": {
        "colab": {
          "base_uri": "https://localhost:8080/"
        },
        "id": "x2XXaTrj4znt",
        "outputId": "45388450-4458-43e6-d3be-6c0d2406be6e"
      },
      "outputs": [
        {
          "name": "stdout",
          "output_type": "stream",
          "text": [
            "2650\n",
            "Время выполнения: 227.21 секунд.\n"
          ]
        }
      ],
      "source": [
        "# Цикл\n",
        "# Задача 4\n",
        "import csv\n",
        "from functools import reduce\n",
        "\n",
        "\n",
        "year_col = 3\n",
        "views_col = 4\n",
        "\n",
        "\n",
        "def count_songs(row):\n",
        "    year = row[year_col].strip()\n",
        "    views = row[views_col].strip()\n",
        "    return 1 if year == '2022' and int(views) > 5_000 else 0\n",
        "\n",
        "\n",
        "n = 0\n",
        "start_time = time.time()\n",
        "with open(dataset_path, \"r\", encoding='utf8') as file:\n",
        "    reader = csv.reader(file)\n",
        "    print(reduce(lambda x, y: x + y, map(count_songs, reader)))\n",
        "print(f'Время выполнения: {round(time.time() - start_time, 2)} секунд.')"
      ]
    },
    {
      "cell_type": "code",
      "execution_count": null,
      "metadata": {
        "colab": {
          "base_uri": "https://localhost:8080/"
        },
        "id": "UB7u731P9555",
        "outputId": "96c49ef0-27a5-4781-8ef9-b21b9ea657b3"
      },
      "outputs": [
        {
          "name": "stdout",
          "output_type": "stream",
          "text": [
            "2650\n",
            "Время выполнения: 360.62 секунд.\n"
          ]
        }
      ],
      "source": [
        "from joblib import Parallel, delayed\n",
        "from functools import reduce\n",
        "import csv\n",
        "\n",
        "\n",
        "year_col = 3\n",
        "views_col = 4\n",
        "\n",
        "\n",
        "def count_songs(row):\n",
        "    year = row[year_col].strip()\n",
        "    views = row[views_col].strip()\n",
        "    return 1 if year == '2022' and int(views) > 5_000 else 0\n",
        "\n",
        "\n",
        "n = 0\n",
        "start_time = time.time()\n",
        "with open(dataset_path, \"r\", encoding='utf8') as file:\n",
        "    print(reduce(lambda x, y: x + y, Parallel(n_jobs=2)(delayed(count_songs)(row) for row in csv.reader(file))))\n",
        "print(f'Время выполнения: {round(time.time() - start_time, 2)} секунд.')"
      ]
    }
  ],
  "metadata": {
    "colab": {
      "provenance": []
    },
    "kernelspec": {
      "display_name": "Python 3",
      "name": "python3"
    },
    "language_info": {
      "codemirror_mode": {
        "name": "ipython",
        "version": 3
      },
      "file_extension": ".py",
      "mimetype": "text/x-python",
      "name": "python",
      "nbconvert_exporter": "python",
      "pygments_lexer": "ipython3",
      "version": "3.9.6"
    }
  },
  "nbformat": 4,
  "nbformat_minor": 0
}
