{
  "cells": [
    {
      "cell_type": "markdown",
      "metadata": {
        "id": "jqh_NMwMjfhO"
      },
      "source": [
        "# Домашняя работа"
      ]
    },
    {
      "cell_type": "code",
      "execution_count": 65,
      "metadata": {
        "colab": {
          "base_uri": "https://localhost:8080/"
        },
        "id": "yBhMEH50MCyf",
        "outputId": "c7b71698-ea06-4ef8-929e-95f18e9b3e7e"
      },
      "outputs": [],
      "source": [
        "import opendatasets as od\n",
        "import pandas as pd\n",
        "import time\n",
        "from pathlib import Path\n",
        "import json\n",
        "\n",
        "# n, mean, M2 = 0, 0.0, 0\n",
        "# for path in Path('imdb-user-reviews').glob('**/*'):\n",
        "#     if path.is_file() and path.suffix == '.json':\n",
        "#         with open(path, 'r') as f:\n",
        "#             info = json.load(f)\n",
        "#         score = float(info['movieIMDbRating'])\n",
        "#         n += 1\n",
        "#         delta = score - mean\n",
        "#         mean += delta / n\n",
        "#         M2 += delta * (score - mean)\n",
        "\n",
        "# print(mean, (M2 / n) ** (1/2))"
      ]
    },
    {
      "cell_type": "markdown",
      "metadata": {
        "id": "Ic09ccPLbMUR"
      },
      "source": [
        "На основе этого кода соберите mapper и reducer:"
      ]
    },
    {
      "cell_type": "code",
      "execution_count": 4,
      "metadata": {
        "id": "aBa-fXxFg40_"
      },
      "outputs": [],
      "source": [
        "# from functools import reduce\n",
        "# import json\n",
        "\n",
        "# n, mean, M2 = 0, 0.0, 0\n",
        "\n",
        "# def mapper(path):\n",
        "#     if path.is_file() and path.suffix == '.json':\n",
        "#         with open(path, 'r') as f:\n",
        "#             info = json.load(f)\n",
        "#             score = float(info['movieIMDbRating'])\n",
        "            \n",
        "#         return score\n",
        "\n",
        "\n",
        "# def reducer(score_data1, score_data2):\n",
        "#     sum = 0\n",
        "#     if score_data2 is not None:\n",
        "        \n",
        "#         score_data1 += score_data2\n",
        "#         print(sum)\n",
        "        # global n, mean, M2\n",
        "        # n += 1\n",
        "        # delta = score_data2 - mean\n",
        "        # mean += delta / n\n",
        "        # M2 += delta * (score_data2 - mean)\n",
        "        # return n, mean, M2\n",
        "\n",
        "# reduce(reducer, map(mapper, Path('airbnb.csv')))\n",
        "# n, mean, M2 = reduce(reducer, map(mapper, Path('imdb-user-reviews').glob('**/*')))\n",
        "# print(mean, (M2 / n) ** (1/2))"
      ]
    },
    {
      "cell_type": "code",
      "execution_count": null,
      "metadata": {},
      "outputs": [],
      "source": []
    }
  ],
  "metadata": {
    "colab": {
      "provenance": []
    },
    "kernelspec": {
      "display_name": "Python 3",
      "name": "python3"
    },
    "language_info": {
      "codemirror_mode": {
        "name": "ipython",
        "version": 3
      },
      "file_extension": ".py",
      "mimetype": "text/x-python",
      "name": "python",
      "nbconvert_exporter": "python",
      "pygments_lexer": "ipython3",
      "version": "3.9.6"
    }
  },
  "nbformat": 4,
  "nbformat_minor": 0
}
