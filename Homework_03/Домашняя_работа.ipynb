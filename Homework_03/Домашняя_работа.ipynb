{
  "cells": [
    {
      "cell_type": "markdown",
      "metadata": {
        "id": "jqh_NMwMjfhO"
      },
      "source": [
        "# Домашняя работа"
      ]
    },
    {
      "cell_type": "code",
      "execution_count": 11,
      "metadata": {
        "colab": {
          "base_uri": "https://localhost:8080/"
        },
        "id": "yBhMEH50MCyf",
        "outputId": "c7b71698-ea06-4ef8-929e-95f18e9b3e7e"
      },
      "outputs": [
        {
          "name": "stdout",
          "output_type": "stream",
          "text": [
            "152.72068718682823 240.15171391941672\n"
          ]
        }
      ],
      "source": [
        "from functools import reduce\n",
        "from pathlib import Path\n",
        "import csv\n",
        "\n",
        "n, mean, M2 = 0, 0.0, 0\n",
        "\n",
        "def mapper(row):\n",
        "    price = float(row['price'])\n",
        "    return price\n",
        "\n",
        "\n",
        "def reducer(acc, data):\n",
        "    global n, mean, M2\n",
        "    n += 1\n",
        "    delta = data - mean\n",
        "    mean += delta / n\n",
        "    M2 += delta * (data - mean)\n",
        "    return n, mean, M2\n",
        "\n",
        "with open(Path('airbnb.csv'), \"r\", encoding='utf8') as file:\n",
        "    reader = csv.DictReader(file)\n",
        "    n, mean, M2 = reduce(reducer, map(mapper, reader), {})\n",
        "    print(mean, (M2 / n) ** (1/2))\n",
        "\n"
      ]
    }
  ],
  "metadata": {
    "colab": {
      "provenance": []
    },
    "kernelspec": {
      "display_name": "Python 3",
      "name": "python3"
    },
    "language_info": {
      "codemirror_mode": {
        "name": "ipython",
        "version": 3
      },
      "file_extension": ".py",
      "mimetype": "text/x-python",
      "name": "python",
      "nbconvert_exporter": "python",
      "pygments_lexer": "ipython3",
      "version": "3.9.6"
    }
  },
  "nbformat": 4,
  "nbformat_minor": 0
}
